{
 "cells": [
  {
   "cell_type": "markdown",
   "metadata": {
    "ExecuteTime": {
     "end_time": "2019-11-27T11:12:06.807975Z",
     "start_time": "2019-11-27T11:12:06.799444Z"
    }
   },
   "source": [
    "<br/><br/><br/><br/>\n",
    "\n",
    "### Задача #1\n",
    "Сервис Яндекс.Еда привлекает новых клиентов в том числе с помощью скидок. При этом для повышения экономической эффективности необходимо отслеживать основные метрики по скидкам. Напишите код, который отвечает на следующие вопросы (можно использовать SQL или Python):\n",
    "\n",
    "1.\tКакая доля заказов с промокодами?\n",
    "2.\tСамый популярный (в метрике суммы скидки) промокод (название) и сумма скидки по нему?\n",
    "\n",
    "Данные, которые есть (для простоты в формате **.txt**, несколько первых строк):<br/>\n",
    "**orders.txt** (если в заказе был промокод, то записываеся **id** промокода; если не было, то **NULL**)<br/>\n",
    ">order_id, promocode_id<br/>\n",
    ">1,23<br/>\n",
    ">2,NULL<br/>\n",
    ">3,5<br/>\n",
    "\n",
    "**promocodes.txt** (**discount** – сумма скидки в рублях)<br/>\n",
    ">promocode_id, name, discount<br/>\n",
    ">1,hello,300<br/>\n",
    ">2,eda,500<br/>\n",
    "\n",
    "### Решение:\n",
    "1. Просто для удобства работы, допустим, что мы выгружаем в **.csv**, а не в **.txt**.<br/>\n",
    "*Примечание: это не критично, могу написать код и для* **.txt**\n",
    "2. Если я правильно понял условие \"Самый популярный (в метрике суммы скидки)\", это означает \"промокод, с максимальной по всем заказам суммарной величиной скидки\"\n",
    "<br/><br/><br/><br/>"
   ]
  },
  {
   "cell_type": "code",
   "execution_count": 55,
   "metadata": {
    "ExecuteTime": {
     "end_time": "2019-11-27T23:32:22.070128Z",
     "start_time": "2019-11-27T23:32:22.059930Z"
    }
   },
   "outputs": [],
   "source": [
    "import pandas as pd\n",
    "import numpy as np\n",
    "import matplotlib\n",
    "import matplotlib.pyplot as plt\n",
    "\n",
    "def promo_ratio(n):\n",
    "    \"\"\"Доля заказов с промокодами\"\"\"\n",
    "    if len(n)==0:\n",
    "        return 'Error: array is empty'\n",
    "    N = len(n)\n",
    "    nan_rate = np.sum([1 for i in orders['promocode_id'] if np.isnan(i)])\n",
    "    return (N-nan_rate)/N\n",
    "\n",
    "def addv(d,v):\n",
    "    \"\"\"Добавляет в словарь\"\"\"\n",
    "    if v in d:\n",
    "        d[v]+=1\n",
    "    else:\n",
    "        d[v]=1\n",
    "        \n",
    "def popular(order,promos):\n",
    "    \"\"\"Возвращает имя промокод, с максимальной по всем заказам суммарной величиной скидки и величину этой скидки\"\"\"\n",
    "    d = dict() # создать словарь\n",
    "    # вычислить для каждого промокода количество его появлений\n",
    "    for i in orders['promocode_id']: \n",
    "        if np.isnan(i)==False:\n",
    "            addv(d,i) \n",
    "\n",
    "    # заменить id промокода на name, суммарная скидка = количество*сумма_скидки\n",
    "    for i,name,disc in promos.values:\n",
    "        if i in d:\n",
    "            d[name] = d.pop(i)\n",
    "            d[name] *= disc\n",
    "    return max(d, key=d.get), max(d.values())"
   ]
  },
  {
   "cell_type": "code",
   "execution_count": 2,
   "metadata": {
    "ExecuteTime": {
     "end_time": "2019-11-27T22:59:02.290887Z",
     "start_time": "2019-11-27T22:59:02.257488Z"
    }
   },
   "outputs": [
    {
     "name": "stdout",
     "output_type": "stream",
     "text": [
      "Доля заказов с промокодами: 0.6666666666666666\n",
      "Промокод и суммарная скидка: test 200\n"
     ]
    }
   ],
   "source": [
    "if __name__ == '__main__':\n",
    "    orders = pd.read_csv(\"orders.csv\")\n",
    "    promos = pd.read_csv(\"promocodes.csv\")\n",
    "    print(\"Доля заказов с промокодами:\", promo_ratio(orders['promocode_id']))\n",
    "    print(\"Промокод и суммарная скидка:\", *popular(orders,promos))"
   ]
  },
  {
   "attachments": {},
   "cell_type": "markdown",
   "metadata": {},
   "source": [
    "<br/>\n",
    "<br/>\n",
    "<br/>\n",
    "<br/>\n",
    "<br/><br/>\n",
    "\n",
    "### Задача #2\n",
    "Яндекс.Еда осуществляет доставку еды из ресторанов. При этом у каждого ресторана есть зона, в рамках которой осуществляется доставка. Зона представляет собой полигон из координат. Пользователь в зависимости от своей координаты видит разное количество доступных ресторанов. Нам важно, чтобы у каждого пользователя было достаточное количество ресторанов для выбора. Задача заключается в том, чтобы по каждой координате пользователя посчитать доступное ему количество ресторанов. Можно использовать Python.<br/>\n",
    "Данные, которые есть (для простоты в формате **.txt**, несколько первых строк):\n",
    "\n",
    "**user_coordinates.txt** (примерно 300 тыс строк, **user_id** – идентификатор пользователя)<br/>\n",
    ">**user_id,loc_lat,loc_lon**<br/>\n",
    ">1,55.737564,37.345186<br/>\n",
    ">2,56.234564,37.234590<br/>\n",
    ">3,55.234578,36.295745<br/>\n",
    "\n",
    "**place_zone_coordinates** (примерно 500 тыс строк, **place_id** – идентификатор ресторана, **point_number** – порядковый номер точки в зоне доставки ресторана)<br/>\n",
    ">**place_id,loc_lat,loc_lon, point_number**<br/>\n",
    ">1,55.747022,37.787073,0<br/>\n",
    ">1,55.751713,37.784328,1<br/>\n",
    ">1,55.753878,37.777638,2<br/>\n",
    ">1,55.751031,37.779351,3<br/>\n",
    ">2,55.803885,37.458311,0<br/>\n",
    ">2,55.808677,37.464054,1<br/>\n",
    ">2,55.809763,37.461314,2<br/>\n",
    ">2,55.810840,37.458654,3<br/>\n",
    "\n",
    "\n",
    "**Формат результата:**<br/>\n",
    ">**id,number_of_places_available**<br/>\n",
    ">1,2<br/>\n",
    ">2,19<br/>\n",
    ">3,0<br/>\n",
    "\n",
    "\n",
    "### Решение:\n",
    "1. Также как и ранее, для удобства работы, допустим, что мы выгружаем в **.csv**, а не в **.txt**.<br/>\n",
    "2. Для таблицы **place_zone_coordinates** будем предполагать, что область задается 4 точками. Я понимаю, что в общем случае количество точек может быть задано от 3 до n, но алгоритмы для каждого случая будут отличаться не значительно. \n",
    "<br/>\n",
    "\n",
    "**Основная идея состоит в следующем:** <br/>\n",
    "* Давайте вычислим заранее площади всех областей: каждая область это 4-угольник ABCD, состоящий из треугольников таких, что $2*S_{ABCD} = S_{ABC}+S_{BCD}+S_{CDA}+S_{DAB}$\n",
    "* Далее, для каждой точки-координаты пользователя $O(x,y)$ вычислим ту же площадь 4-угольника ABCD, как  $S_{ABCD} = S_{OAB}+S_{OBC}+S_{OCD}+S_{ODA}$\n",
    "* И если площади вычисленные обоими способами равны - значит точка $O(x,y)$ находится внутри области 4-угольника\n",
    "* Повторим следующее для всех пользователей\n",
    "\n",
    "**Минусы этого метода:**<br/>\n",
    "Основной минус - это вычисления с плавающей точкой. На этапе сравнения площадей мы можем судить о равенстве двумя методами лишь с определенной точностью. Поэтому я задал точность на 3 порядок выше чем точность с которой у нас заданы координаты (тоесть 10 знаков после запятой)\n",
    "<br/><br/><br/><br/>"
   ]
  },
  {
   "cell_type": "code",
   "execution_count": 95,
   "metadata": {
    "ExecuteTime": {
     "end_time": "2019-11-28T00:21:42.283227Z",
     "start_time": "2019-11-28T00:21:42.252857Z"
    }
   },
   "outputs": [],
   "source": [
    "def place_xy(place):\n",
    "    \"\"\"возвращает координаты X,Y для всех  places\"\"\"\n",
    "    px = np.zeros((int(len(place)/4),4), dtype='float128')     # place area X-coord.\n",
    "    py = np.zeros((int(len(place)/4),4), dtype='float128')     # place area Y-coord.\n",
    "    prev, ind = place['place_id'][0], 0\n",
    "    for i,x,y,n in place.values:\n",
    "        n = int(n)\n",
    "        if prev==i:\n",
    "            px[ind][n] = x\n",
    "            py[ind][n] = y\n",
    "        else:\n",
    "            prev,ind = i, ind+1\n",
    "            px[ind][n] = x\n",
    "            py[ind][n] = y\n",
    "    return px, py\n",
    "\n",
    "##########  вычисление площади 4-угольника без user\n",
    "def d(x2,x1,y2,y1):\n",
    "    \"\"\"вычисляет расстояние между точками\"\"\"\n",
    "    return np.sqrt((x2-x1)**2+(y2-y1)**2)\n",
    "\n",
    "def s3(t1,t2,t3,px,py):\n",
    "    \"\"\"вычисляет S треуг.\"\"\"\n",
    "    abc = np.array([t1,t2,t2,t3,t3,t1]).reshape(-1,2) # генератор пар точек \n",
    "    a,b,c = [d(px[:,i],px[:,j],py[:,i],py[:,j]) for i,j in abc]   # длины сторон треугольника\n",
    "    p = (a+b+c)/2   # полпериметра\n",
    "    s = np.sqrt(p*(p-a)*(p-b)*(p-c))\n",
    "    return s\n",
    "\n",
    "def p_s4(px,py):\n",
    "    \"\"\"вычисляет площадь 4-угольника как половина суммы площадей его треугольников\"\"\"\n",
    "    abcd = np.array([0,1,2,1,2,3,2,3,0,3,0,1]).reshape(-1,3)\n",
    "    s_1,s_2,s_3,s_4 = [s3(t1,t2,t3,px,py) for t1,t2,t3 in abcd]\n",
    "    s = (s_1+s_2+s_3+s_4)/2\n",
    "    return s\n",
    "############\n",
    "\n",
    "\n",
    "##########  вычисление площади 4-угольника с user\n",
    "def user_xy(user):\n",
    "    \"\"\"возвращает координаты X,Y для всех  user\"\"\"\n",
    "    ux = np.zeros((int(len(user)),1), dtype='float128')     # user X-coord.\n",
    "    uy = np.zeros((int(len(user)),1), dtype='float128')         # user Y-coord.\n",
    "    u_id = np.zeros(int(len(user)), dtype='int').reshape(-1,1)     # user id\n",
    "    for ind,(i,x,y) in enumerate(user.values):\n",
    "        ux[ind]=x\n",
    "        uy[ind]=y\n",
    "        u_id[ind]=i\n",
    "    return ux, uy, u_id\n",
    "\n",
    "def s3_u(t1,t2,px,py,uxi,uyi):\n",
    "    \"\"\"Вычисляет S треуг. образующийся из точек t1,t2 и коорд. user'а\"\"\"\n",
    "    a = d(px[:,t1],uxi,py[:,t1],uyi)\n",
    "    b = d(uxi,px[:,t2],uyi,py[:,t2])\n",
    "    c = d(px[:,t2],px[:,t1],py[:,t2],py[:,t1])\n",
    "    p = (a+b+c)/2   # полпериметра\n",
    "    s = np.sqrt(p*(p-a)*(p-b)*(p-c))\n",
    "    return s\n",
    "\n",
    "def s4_u(px,py,uxi,uyi):\n",
    "    \"\"\"вычисляет площадь 4-угольника как сумму 4-х треугольников\"\"\"\n",
    "    abcd = np.array([0,1,1,2,2,3,3,0]).reshape(-1,2)\n",
    "    s_1,s_2,s_3,s_4 = [s3_u(t1,t2,px,py,uxi,uyi) for t1,t2 in abcd]\n",
    "    s = (s_1+s_2+s_3+s_4)\n",
    "    return s\n",
    "##########\n",
    "\n",
    "def eq(a, b, eps):\n",
    "    \"\"\"функция сравнения двух чисел с точностью eps\"\"\"\n",
    "    if abs(a-b)<eps:\n",
    "        return True\n",
    "    else:\n",
    "        return False\n",
    "    \n",
    "def n_available(S1,S2):\n",
    "    \"\"\"Сравнивает и возвращает количество одинаковых площадей для\"\"\"\n",
    "    n = 0 \n",
    "    eps = 0.0000000001\n",
    "    for i in range(len(S1)):\n",
    "        if eq(S1[i],S2[i],eps):\n",
    "            n+=1\n",
    "    return n"
   ]
  },
  {
   "cell_type": "code",
   "execution_count": 96,
   "metadata": {
    "ExecuteTime": {
     "end_time": "2019-11-28T00:21:44.393570Z",
     "start_time": "2019-11-28T00:21:44.356982Z"
    }
   },
   "outputs": [
    {
     "data": {
      "text/html": [
       "<div>\n",
       "<style scoped>\n",
       "    .dataframe tbody tr th:only-of-type {\n",
       "        vertical-align: middle;\n",
       "    }\n",
       "\n",
       "    .dataframe tbody tr th {\n",
       "        vertical-align: top;\n",
       "    }\n",
       "\n",
       "    .dataframe thead th {\n",
       "        text-align: right;\n",
       "    }\n",
       "</style>\n",
       "<table border=\"1\" class=\"dataframe\">\n",
       "  <thead>\n",
       "    <tr style=\"text-align: right;\">\n",
       "      <th></th>\n",
       "      <th>user_id</th>\n",
       "      <th>loc_lat</th>\n",
       "      <th>loc_lon</th>\n",
       "    </tr>\n",
       "  </thead>\n",
       "  <tbody>\n",
       "    <tr>\n",
       "      <th>0</th>\n",
       "      <td>1</td>\n",
       "      <td>55.737564</td>\n",
       "      <td>37.345186</td>\n",
       "    </tr>\n",
       "    <tr>\n",
       "      <th>1</th>\n",
       "      <td>2</td>\n",
       "      <td>56.234564</td>\n",
       "      <td>37.234590</td>\n",
       "    </tr>\n",
       "    <tr>\n",
       "      <th>2</th>\n",
       "      <td>3</td>\n",
       "      <td>55.234578</td>\n",
       "      <td>36.295745</td>\n",
       "    </tr>\n",
       "    <tr>\n",
       "      <th>3</th>\n",
       "      <td>4</td>\n",
       "      <td>0.123411</td>\n",
       "      <td>0.132513</td>\n",
       "    </tr>\n",
       "    <tr>\n",
       "      <th>4</th>\n",
       "      <td>5</td>\n",
       "      <td>55.752125</td>\n",
       "      <td>37.780123</td>\n",
       "    </tr>\n",
       "  </tbody>\n",
       "</table>\n",
       "</div>"
      ],
      "text/plain": [
       "   user_id    loc_lat    loc_lon\n",
       "0        1  55.737564  37.345186\n",
       "1        2  56.234564  37.234590\n",
       "2        3  55.234578  36.295745\n",
       "3        4   0.123411   0.132513\n",
       "4        5  55.752125  37.780123"
      ]
     },
     "execution_count": 96,
     "metadata": {},
     "output_type": "execute_result"
    }
   ],
   "source": [
    "place = pd.read_csv(\"place_zone_coo.csv\")\n",
    "user = pd.read_csv(\"user_coo.csv\")\n",
    "user.head()"
   ]
  },
  {
   "cell_type": "code",
   "execution_count": 97,
   "metadata": {
    "ExecuteTime": {
     "end_time": "2019-11-28T00:21:46.297896Z",
     "start_time": "2019-11-28T00:21:46.267503Z"
    }
   },
   "outputs": [],
   "source": [
    "px, py = place_xy(place)                # places X,Y coord.\n",
    "ux, uy, u_id = user_xy(user)            # users X,Y coord. and user id's\n",
    "S1 = p_s4(px,py)                        # S without user\n",
    "df = pd.DataFrame(columns=['user_id', 'number_of_places_available'])\n",
    "for i in range(len(u_id)):\n",
    "    uxi = np.array([ux[i]]*int(len(px))).reshape(-1)\n",
    "    uyi = np.array([uy[i]]*int(len(px))).reshape(-1)\n",
    "    S2 = s4_u(px,py,uxi,uyi)            # S with user_i\n",
    "    df = df.append({'user_id': u_id[i][0], 'number_of_places_available': n_available(S1,S2) },ignore_index=True)"
   ]
  },
  {
   "cell_type": "code",
   "execution_count": 98,
   "metadata": {
    "ExecuteTime": {
     "end_time": "2019-11-28T00:21:47.443662Z",
     "start_time": "2019-11-28T00:21:47.431699Z"
    }
   },
   "outputs": [
    {
     "data": {
      "text/html": [
       "<div>\n",
       "<style scoped>\n",
       "    .dataframe tbody tr th:only-of-type {\n",
       "        vertical-align: middle;\n",
       "    }\n",
       "\n",
       "    .dataframe tbody tr th {\n",
       "        vertical-align: top;\n",
       "    }\n",
       "\n",
       "    .dataframe thead th {\n",
       "        text-align: right;\n",
       "    }\n",
       "</style>\n",
       "<table border=\"1\" class=\"dataframe\">\n",
       "  <thead>\n",
       "    <tr style=\"text-align: right;\">\n",
       "      <th></th>\n",
       "      <th>user_id</th>\n",
       "      <th>number_of_places_available</th>\n",
       "    </tr>\n",
       "  </thead>\n",
       "  <tbody>\n",
       "    <tr>\n",
       "      <th>0</th>\n",
       "      <td>1</td>\n",
       "      <td>0</td>\n",
       "    </tr>\n",
       "    <tr>\n",
       "      <th>1</th>\n",
       "      <td>2</td>\n",
       "      <td>0</td>\n",
       "    </tr>\n",
       "    <tr>\n",
       "      <th>2</th>\n",
       "      <td>3</td>\n",
       "      <td>0</td>\n",
       "    </tr>\n",
       "    <tr>\n",
       "      <th>3</th>\n",
       "      <td>4</td>\n",
       "      <td>1</td>\n",
       "    </tr>\n",
       "    <tr>\n",
       "      <th>4</th>\n",
       "      <td>5</td>\n",
       "      <td>1</td>\n",
       "    </tr>\n",
       "    <tr>\n",
       "      <th>5</th>\n",
       "      <td>6</td>\n",
       "      <td>0</td>\n",
       "    </tr>\n",
       "  </tbody>\n",
       "</table>\n",
       "</div>"
      ],
      "text/plain": [
       "  user_id number_of_places_available\n",
       "0       1                          0\n",
       "1       2                          0\n",
       "2       3                          0\n",
       "3       4                          1\n",
       "4       5                          1\n",
       "5       6                          0"
      ]
     },
     "execution_count": 98,
     "metadata": {},
     "output_type": "execute_result"
    }
   ],
   "source": [
    "df"
   ]
  },
  {
   "cell_type": "code",
   "execution_count": 56,
   "metadata": {
    "ExecuteTime": {
     "end_time": "2019-11-27T23:32:31.139911Z",
     "start_time": "2019-11-27T23:32:31.134096Z"
    }
   },
   "outputs": [],
   "source": [
    "################ микро-проверки для себя"
   ]
  },
  {
   "cell_type": "code",
   "execution_count": 100,
   "metadata": {
    "ExecuteTime": {
     "end_time": "2019-11-28T00:22:27.017790Z",
     "start_time": "2019-11-28T00:22:26.807347Z"
    }
   },
   "outputs": [
    {
     "data": {
      "image/png": "[encoded data removed]",
      "text/plain": [
       "<Figure size 648x432 with 1 Axes>"
      ]
     },
     "metadata": {
      "needs_background": "light"
     },
     "output_type": "display_data"
    }
   ],
   "source": [
    "plt.figure(figsize=(9, 6))\n",
    "\n",
    "plt.plot(px[0], py[0], '.-')\n",
    "plt.plot(ux[5],uy[5],'*') # user6 - outside\n",
    "plt.plot(ux[4],uy[4],'*') # user5 - inside\n",
    "plt.xlim(55.746, 55.755)\n",
    "plt.ylim(37.777, 37.788)\n",
    "plt.grid(True)"
   ]
  },
  {
   "attachments": {},
   "cell_type": "markdown",
   "metadata": {},
   "source": [
    "<br/>\n",
    "<br/>\n",
    "<br/>\n",
    "<br/>\n",
    "<br/><br/>\n",
    "\n",
    "### Задача #3\n",
    "Мы в Яндекс.Еде любим поиграть в покер и настольные игры. Поэтому нам важно, чтобы будущие коллеги были сильны в математической статистике и теории вероятностей (так интереснее играть))) Если серьезно, то в большинстве аналитических задач у нас возникает необходимость применять математический аппарат в том или ином виде. Проще всего его проверить через учебные игровые задачи, чтобы не погружать в сложный контекст бизнеса. <br/>\n",
    "Вы подбрасываете кубик (6 граней), после чего у вас есть две возможности: <br/>\n",
    "    1. Взять себе сумму $, равную выпавшему на кубике числу (выпало 3 – получаете 3$)\n",
    "    2. Отклонить результат первого броска и подбросить кубик второй раз. После чего уже взять себе столько $, сколько выпало во второй раз (второй бросок отклонять уже нельзя)\n",
    "Какую стратегию нужно выбрать, чтобы максимизировать ожидаемую прибыль (при каких значениях первого броска нужно перебрасывать?) <br/>\n",
    "Почему эта стратегия максимизирует прибыль?<br/>\n",
    "Чему равна ожидаемая прибыль при этой стратегии (математическое ожидание)?<br/>\n",
    "<br/>\n",
    "<br/>\n",
    "<br/>\n",
    "<br/>\n",
    "<br/><br/>"
   ]
  },
  {
   "cell_type": "markdown",
   "metadata": {},
   "source": [
    "### Решение:\n",
    "Любая стратегия выигрышная. Какое бы \"пороговое\" значение мы не выбрали, мы всегда будем стремиться к среднему значению. <br/>\n",
    "Так как все события независимы, равномерно распределённые, а вероятность выпадения k не увеличивается и не уменьшается при перебрасывании кубика после выпадении k и ниже. <br/>\n",
    "Средняя прибыль за один бросок равна $mean = 1/6*1+1/6*2+1/6*3+1/6*4+1/6*5+1/6*6=3.5$<br/>\n",
    "Ожидаемая прибыль стремиться к $mean*N$, где N - количество шагов (1 шаг в результате получения суммы)<br/>\n"
   ]
  }
 ],
 "metadata": {
  "kernelspec": {
   "display_name": "Python 3",
   "language": "python",
   "name": "python3"
  },
  "language_info": {
   "codemirror_mode": {
    "name": "ipython",
    "version": 3
   },
   "file_extension": ".py",
   "mimetype": "text/x-python",
   "name": "python",
   "nbconvert_exporter": "python",
   "pygments_lexer": "ipython3",
   "version": "3.6.8"
  },
  "toc": {
   "base_numbering": "",
   "nav_menu": {},
   "number_sections": false,
   "sideBar": true,
   "skip_h1_title": false,
   "title_cell": "Table of Contents",
   "title_sidebar": "Contents",
   "toc_cell": false,
   "toc_position": {},
   "toc_section_display": true,
   "toc_window_display": false
  },
  "varInspector": {
   "cols": {
    "lenName": 16,
    "lenType": 16,
    "lenVar": 40
   },
   "kernels_config": {
    "python": {
     "delete_cmd_postfix": "",
     "delete_cmd_prefix": "del ",
     "library": "var_list.py",
     "varRefreshCmd": "print(var_dic_list())"
    },
    "r": {
     "delete_cmd_postfix": ") ",
     "delete_cmd_prefix": "rm(",
     "library": "var_list.r",
     "varRefreshCmd": "cat(var_dic_list()) "
    }
   },
   "types_to_exclude": [
    "module",
    "function",
    "builtin_function_or_method",
    "instance",
    "_Feature"
   ],
   "window_display": false
  }
 },
 "nbformat": 4,
 "nbformat_minor": 2
}
